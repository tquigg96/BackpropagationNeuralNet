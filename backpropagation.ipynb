{
  "nbformat": 4,
  "nbformat_minor": 0,
  "metadata": {
    "colab": {
      "name": "backpropagation.ipynb",
      "provenance": [],
      "collapsed_sections": []
    },
    "kernelspec": {
      "name": "python3",
      "display_name": "Python 3"
    },
    "language_info": {
      "name": "python"
    }
  },
  "cells": [
    {
      "cell_type": "code",
      "metadata": {
        "id": "yKm5EtxDqtad"
      },
      "source": [
        "import math \n",
        "from numpy import random\n",
        "import random\n",
        "import decimal\n",
        "from sklearn.metrics import mean_squared_error\n",
        "from sklearn.metrics import accuracy_score\n",
        "\n",
        "def hardThresh(x):\n",
        "  thresh = []\n",
        "  for i in x:\n",
        "    if i >= 0:\n",
        "      thresh.append(1)\n",
        "    \n",
        "    else:\n",
        "      thresh.append(0)\n",
        "  return thresh\n",
        "\n",
        "def logistic(function):\n",
        "  newArray = []\n",
        "  i = 0\n",
        "  while (i <= len(function)-1):\n",
        "    sigmoid = 1/1+ math.pow(math.e, function[i] * -1)\n",
        "    newArray.append(sigmoid)\n",
        "    i =+ 1\n",
        "  return newArray\n",
        "    \n"
      ],
      "execution_count": 55,
      "outputs": []
    },
    {
      "cell_type": "code",
      "metadata": {
        "id": "RGdYrxVUrnzs"
      },
      "source": [
        "def function(data, w):\n",
        "  X = data\n",
        "\n",
        "  F = lambda x,y,z: x+y+z\n",
        "  valArray = []\n",
        "  newNode = []\n",
        "  val = 0\n",
        "  sumVal = 0\n",
        "  i = 0\n",
        "  j = 0\n",
        "  \n",
        "\n",
        "  while (i <= len(X)-1): \n",
        "    while (j <= len(w)-1):\n",
        "      val = X[i]*w[j]\n",
        "      valArray.append(val)\n",
        "      j += 1\n",
        "\n",
        "    sumVal = F(valArray[0],valArray[1],valArray[2])\n",
        "    newNode.append(sumVal)\n",
        "    i += 1\n",
        "\n",
        "  return newNode"
      ],
      "execution_count": 50,
      "outputs": []
    },
    {
      "cell_type": "code",
      "metadata": {
        "id": "1FdmriDDtN2X"
      },
      "source": [
        "def thirdProcess(v, l, r, y, z):\n",
        "  i = 0\n",
        "  while(i <= r-1):\n",
        "    v = l*(r[i] - y)*z\n",
        "    i += 1\n",
        "  \n",
        "  return v\n",
        "    "
      ],
      "execution_count": 37,
      "outputs": []
    },
    {
      "cell_type": "code",
      "metadata": {
        "id": "7NLxS541uXFK"
      },
      "source": [
        "def gradient(w, l, r, y, v, z, x):\n",
        "  i = 0\n",
        "  while (i <= len(w)-1):\n",
        "    w[i] = l*(r[i]-y)*v[i]*Z[i] *(1-z[i])*x[i]\n",
        "    i += 1\n",
        "\n",
        "  return w"
      ],
      "execution_count": 38,
      "outputs": []
    },
    {
      "cell_type": "code",
      "metadata": {
        "id": "a1z9wSsjuf3c"
      },
      "source": [
        "def gradientDescent(w, newW):\n",
        "\n",
        "  w = w + newW\n",
        "\n",
        "  return w\n",
        "  "
      ],
      "execution_count": 39,
      "outputs": []
    },
    {
      "cell_type": "code",
      "metadata": {
        "id": "pnQ2Fzh_quJh"
      },
      "source": [
        "def neuralNetLearn(l, data, r,  w, w2, v):\n",
        "  z = [1, 0, 0]\n",
        "  y = [0]\n",
        "  k = 0\n",
        "  ve = 0\n",
        "  we = 0\n",
        "  i = 0\n",
        "  while(i <= 10):\n",
        "    z[1] = function(data, w)\n",
        "    z[1] = logistic(z[1])\n",
        "    z[2] = function(data, w2)\n",
        "    z[2] = logistic(z[2])\n",
        "    #did it this way instead of a loop because z[0] is hard coded\n",
        "    print(\"first step completed\")\n",
        "    for j in y:\n",
        "      y = function(z, v)\n",
        "      y = logistic(y)\n",
        "      print(\"second step completed\")\n",
        "    while (k <= len(r) -1):\n",
        "      newV[k] = thirdprocess(v[k], l, r[k], y, z[k])\n",
        "      k += 1\n",
        "      print(\"third step completed\")\n",
        "    newW1 = gradient(w1, l, r, y, v, z, data)\n",
        "    newW2 = gradient(w2, l, r, y, v, z, data)\n",
        "    print(\"fourth step completed\")\n",
        "      \n",
        "    while(ve <= len(v)-1):\n",
        "      v[ve] = gradientDescent(v[ve], newV[ve])\n",
        "      ve += 1\n",
        "      print(\"fifth step completed\")\n",
        "    while(we <= len(w1)-1):\n",
        "      w1[we] = gradietnDescent(w1[we], newW1[we])\n",
        "      w2[we] = gradientDescent(w2[we], newW2[we])\n",
        "      print(\"ssixth step completed\")\n",
        "    i += 1\n",
        "  print(\"Big First Loop completed\")\n",
        "  print(\"weight1:\" + w1)\n",
        "  print(\"weight2:\" + w2)\n",
        "  print(\"weight v:\" + v)\n",
        "  print(\"output: \" + y)\n",
        "  return y\n",
        "    \n",
        "\n",
        "    \n"
      ],
      "execution_count": 64,
      "outputs": []
    },
    {
      "cell_type": "code",
      "metadata": {
        "id": "Nl4KoXfO3--C"
      },
      "source": [
        "def randomizer(size):\n",
        "  newarray = []\n",
        "  w = []\n",
        "  j = 0\n",
        "  i = 0\n",
        "  while ( j <= size -1):\n",
        "    while( i <  3):\n",
        "\n",
        "      integer_list = float(decimal.Decimal(random.randrange(1,10))/10)\n",
        "      newarray.append(integer_list)\n",
        "      i += 1\n",
        "    w.append(newarray)\n",
        "    j += 1\n",
        "\n",
        "  return w\n",
        "  \n",
        "\n",
        "    "
      ],
      "execution_count": 58,
      "outputs": []
    },
    {
      "cell_type": "code",
      "metadata": {
        "colab": {
          "base_uri": "https://localhost:8080/"
        },
        "id": "gNrsNxRZrhZN",
        "outputId": "cd2e1322-984e-40b1-a313-8098d6f0dcc5"
      },
      "source": [
        "#Data = [ ( (0,0), 0 ), ( (0,1), 1 ), ( (1,0), 1), ( (1,1), 0 ) ]\n",
        "l = 0.001\n",
        "data = [(1,0,0), (1,0,1), (1,1,0), (1,1,1)]\n",
        "r = [0,1,1,0]\n",
        "w1 = randomizer(4)\n",
        "w2 = randomizer(4)\n",
        "v = randomizer(4)\n",
        "print(w1)\n",
        "\n",
        "\n",
        "y = neuralNetLearn(l, data[0], r,  w1[0], w2[0], v[0]) #infinite loop. If someone has pointers I will be happy to take it. The session is crashing and using up all of my ram."
      ],
      "execution_count": null,
      "outputs": [
        {
          "output_type": "stream",
          "name": "stdout",
          "text": [
            "[[0.6, 0.2, 0.7], [0.6, 0.2, 0.7], [0.6, 0.2, 0.7], [0.6, 0.2, 0.7]]\n"
          ]
        }
      ]
    },
    {
      "cell_type": "code",
      "metadata": {
        "id": "3eIxwbdKdMuD"
      },
      "source": [
        " howGood = mean_squared_error(r,y)\n",
        " accuracy = accuracy_score(r, y)\n",
        " print(\"squared Error: \" + howGood)\n",
        " print(\"accuracyScore: \" + accuracy)"
      ],
      "execution_count": null,
      "outputs": []
    }
  ]
}